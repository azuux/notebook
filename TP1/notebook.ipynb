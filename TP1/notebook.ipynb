{
  "nbformat": 4,
  "nbformat_minor": 0,
  "metadata": {
    "colab": {
      "provenance": [],
      "mount_file_id": "1FJN5ky4i-CpOizPIqZNuiXvO_st3AZG5",
      "authorship_tag": "ABX9TyPgi+8gXNtuJdh31uXpW+TI",
      "include_colab_link": true
    },
    "kernelspec": {
      "name": "python3",
      "display_name": "Python 3"
    },
    "language_info": {
      "name": "python"
    }
  },
  "cells": [
    {
      "cell_type": "markdown",
      "metadata": {
        "id": "view-in-github",
        "colab_type": "text"
      },
      "source": [
        "<a href=\"https://colab.research.google.com/github/azuux/notebook/blob/main/TP1/notebook.ipynb\" target=\"_parent\"><img src=\"https://colab.research.google.com/assets/colab-badge.svg\" alt=\"Open In Colab\"/></a>"
      ]
    },
    {
      "cell_type": "code",
      "execution_count": 21,
      "metadata": {
        "colab": {
          "base_uri": "https://localhost:8080/",
          "height": 331
        },
        "id": "Jwbg4wFidtxx",
        "outputId": "4f578f56-fca2-43b4-a111-d390baef9c1d"
      },
      "outputs": [
        {
          "output_type": "error",
          "ename": "NameError",
          "evalue": "ignored",
          "traceback": [
            "\u001b[0;31m---------------------------------------------------------------------------\u001b[0m",
            "\u001b[0;31mNameError\u001b[0m                                 Traceback (most recent call last)",
            "\u001b[0;32m<ipython-input-21-55bf24e0882b>\u001b[0m in \u001b[0;36m<cell line: 71>\u001b[0;34m()\u001b[0m\n\u001b[1;32m     70\u001b[0m \u001b[0;34m\u001b[0m\u001b[0m\n\u001b[1;32m     71\u001b[0m \u001b[0;32mif\u001b[0m \u001b[0m__name__\u001b[0m \u001b[0;34m==\u001b[0m \u001b[0;34m\"__main__\"\u001b[0m\u001b[0;34m:\u001b[0m\u001b[0;34m\u001b[0m\u001b[0;34m\u001b[0m\u001b[0m\n\u001b[0;32m---> 72\u001b[0;31m     \u001b[0mMenu\u001b[0m\u001b[0;34m(\u001b[0m\u001b[0;34m)\u001b[0m\u001b[0;34m.\u001b[0m\u001b[0mrun\u001b[0m\u001b[0;34m(\u001b[0m\u001b[0;34m)\u001b[0m\u001b[0;34m\u001b[0m\u001b[0;34m\u001b[0m\u001b[0m\n\u001b[0m",
            "\u001b[0;32m<ipython-input-21-55bf24e0882b>\u001b[0m in \u001b[0;36m__init__\u001b[0;34m(self)\u001b[0m\n\u001b[1;32m      5\u001b[0m \u001b[0;34m\u001b[0m\u001b[0m\n\u001b[1;32m      6\u001b[0m     \u001b[0;32mdef\u001b[0m \u001b[0m__init__\u001b[0m\u001b[0;34m(\u001b[0m\u001b[0mself\u001b[0m\u001b[0;34m)\u001b[0m\u001b[0;34m:\u001b[0m\u001b[0;34m\u001b[0m\u001b[0;34m\u001b[0m\u001b[0m\n\u001b[0;32m----> 7\u001b[0;31m       \u001b[0mself\u001b[0m\u001b[0;34m.\u001b[0m\u001b[0mnotebook\u001b[0m \u001b[0;34m=\u001b[0m \u001b[0mNotebook\u001b[0m\u001b[0;34m(\u001b[0m\u001b[0;34m)\u001b[0m\u001b[0;34m\u001b[0m\u001b[0;34m\u001b[0m\u001b[0m\n\u001b[0m\u001b[1;32m      8\u001b[0m       self.choices = {\n\u001b[1;32m      9\u001b[0m           \u001b[0;34m\"1\"\u001b[0m\u001b[0;34m:\u001b[0m \u001b[0mself\u001b[0m\u001b[0;34m.\u001b[0m\u001b[0mshow_notes\u001b[0m\u001b[0;34m,\u001b[0m\u001b[0;34m\u001b[0m\u001b[0;34m\u001b[0m\u001b[0m\n",
            "\u001b[0;31mNameError\u001b[0m: name 'Notebook' is not defined"
          ]
        }
      ],
      "source": [
        "import sys\n",
        "\n",
        "\n",
        "class Menu:\n",
        "    \"\"\"Display a menu and respond to choices when run.\"\"\"\n",
        "\n",
        "    def __init__(self):\n",
        "      self.notebook = Notebook()\n",
        "      self.choices = {\n",
        "          \"1\": self.show_notes,\n",
        "          \"2\": self.search_notes,\n",
        "          \"3\": self.add_note,\n",
        "          \"4\": self.modify_note,\n",
        "          \"5\": self.quit,\n",
        "      }\n",
        "\n",
        "    def display_menu(self):\n",
        "        print(\n",
        "            \"\"\"\n",
        "Notebook Menu\n",
        "\n",
        "1. Show all Notes\n",
        "2. Search Notes\n",
        "3. Add Note\n",
        "4. Modify Note\n",
        "5. Quit\n",
        "\"\"\"\n",
        "\n",
        "        )\n",
        "    def run(self):\n",
        "      \"\"\"Display the menu and respond to choices.\"\"\"\n",
        "      while True:\n",
        "        self.display_menu()\n",
        "        choice = input(\"Enter an option: \")\n",
        "        action = self.choices.get(choice)\n",
        "        if action:\n",
        "            action()\n",
        "        else:\n",
        "            print(\"{0} is not valid choice\".format(choice))\n",
        "\n",
        "    def show_notes(self, notes=None):\n",
        "        if not notes:\n",
        "            notes = self.notebook.notes\n",
        "        for note in notes:\n",
        "            print(\"{0}: {1}\\n{2}\".format(note.id, note.tags, note.memo))\n",
        "\n",
        "    def search_notes(self):\n",
        "        filter = input(\"Search for: \")\n",
        "        notes = self.notebook.search(filter)\n",
        "        if notes:\n",
        "            self.show_notes(notes)\n",
        "\n",
        "    def add_note(self):\n",
        "        memo = input(\"Enter a mempo: \")\n",
        "        self.notebook.new_note(memo)\n",
        "        print(\"Your note has been added.\")\n",
        "\n",
        "    def modify_note(self):\n",
        "        id = input(\"Enter a note id: \")\n",
        "        memo = input(\"Enter a memo: \")\n",
        "        tags = input(\"Enter tags: \")\n",
        "        if memo:\n",
        "            self.notebook.modify_memo(id, tags)\n",
        "        if tags:\n",
        "            self.notebook.modify_memo(id, tags)\n",
        "\n",
        "    def quit(self):\n",
        "        print(\"Thank you for using your notebook today.\")\n",
        "        sys.exit(0)\n",
        "\n",
        "\n",
        "if __name__ == \"__main__\":\n",
        "    Menu().run()"
      ]
    }
  ]
}