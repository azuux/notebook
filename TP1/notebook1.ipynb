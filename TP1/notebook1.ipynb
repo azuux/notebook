{
  "nbformat": 4,
  "nbformat_minor": 0,
  "metadata": {
    "colab": {
      "provenance": [],
      "mount_file_id": "1FJN5ky4i-CpOizPIqZNuiXvO_st3AZG5",
      "authorship_tag": "ABX9TyP0d9Qlk/9jV47k25uxhKqK",
      "include_colab_link": true
    },
    "kernelspec": {
      "name": "python3",
      "display_name": "Python 3"
    },
    "language_info": {
      "name": "python"
    }
  },
  "cells": [
    {
      "cell_type": "markdown",
      "metadata": {
        "id": "view-in-github",
        "colab_type": "text"
      },
      "source": [
        "<a href=\"https://colab.research.google.com/github/azuux/notebook/blob/main/TP1/notebook1.ipynb\" target=\"_parent\"><img src=\"https://colab.research.google.com/assets/colab-badge.svg\" alt=\"Open In Colab\"/></a>"
      ]
    },
    {
      "cell_type": "code",
      "execution_count": null,
      "metadata": {
        "id": "Jwbg4wFidtxx"
      },
      "outputs": [],
      "source": [
        "import sys\n",
        "from notebook import Notebook\n",
        "\n",
        "class Menu:\n",
        "    \"\"\"Display a menu and respond to choices when run.\"\"\"\n",
        "\n",
        "    def __init__(self):\n",
        "      self.notebook = Notebook()\n",
        "      self.choices = {\n",
        "          \"1\": self.show_notes,\n",
        "          \"2\": self.search_notes,\n",
        "          \"3\": self.add_note,\n",
        "          \"4\": self.modify_note,\n",
        "          \"5\": self.quit,\n",
        "      }\n",
        "\n",
        "    def display_menu(self):\n",
        "        print(\n",
        "            \"\"\"\n",
        "Notebook Menu\n",
        "\n",
        "1. Show all Notes\n",
        "2. Search Notes\n",
        "3. Add Note\n",
        "4. Modify Note\n",
        "5. Quit\n",
        "\"\"\"\n",
        "\n",
        "        )\n",
        "    def run(self):\n",
        "      \"\"\"Display the menu and respond to choices.\"\"\"\n",
        "      while True:\n",
        "        self.display_menu()\n",
        "        choice = input(\"Enter an option: \")\n",
        "        action = self.choices.get(choice)\n",
        "        if action:\n",
        "            action()\n",
        "        else:\n",
        "            print(\"{0} is not valid choice\".format(choice))\n",
        "\n",
        "    def show_notes(self, notes=None):\n",
        "        if not notes:\n",
        "            notes = self.notebook.notes\n",
        "        for note in notes:\n",
        "            print(\"{0}: {1}\\n{2}\".format(note.id, note.tags, note.memo))\n",
        "\n",
        "    def search_notes(self):\n",
        "        filter = input(\"Search for: \")\n",
        "        notes = self.notebook.search(filter)\n",
        "        if notes:\n",
        "            self.show_notes(notes)\n",
        "\n",
        "    def add_note(self):\n",
        "        memo = input(\"Enter a mempo: \")\n",
        "        self.notebook.new_note(memo)\n",
        "        print(\"Your note has been added.\")\n",
        "\n",
        "    def modify_note(self):\n",
        "        id = input(\"Enter a note id: \")\n",
        "        memo = input(\"Enter a memo: \")\n",
        "        tags = input(\"Enter tags: \")\n",
        "        if memo:\n",
        "            self.notebook.modify_memo(id, tags)\n",
        "        if tags:\n",
        "            self.notebook.modify_memo(id, tags)\n",
        "\n",
        "    def quit(self):\n",
        "        print(\"Thank you for using your notebook today.\")\n",
        "        sys.exit(0)\n",
        "\n",
        "\n",
        "if __name__ == \"__main__\":\n",
        "    Menu().run()"
      ]
    }
  ]
}